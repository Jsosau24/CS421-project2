{
 "cells": [
  {
   "cell_type": "code",
   "execution_count": 13,
   "metadata": {},
   "outputs": [],
   "source": [
    "import nltk\n",
    "import numpy as np\n",
    "import random\n",
    "import lxml\n",
    "\n",
    "\n",
    "import bs4 as bs\n",
    "import urllib.request\n",
    "import re\n",
    "import ssl"
   ]
  },
  {
   "cell_type": "code",
   "execution_count": 52,
   "metadata": {},
   "outputs": [],
   "source": [
    "#this piece of code filters the code files and cleans the non usefull files\n",
    "import pathlib\n",
    "import shutil\n",
    "import os\n",
    "\n",
    "def delete_subdirs(directory_path):\n",
    "    for filename in os.listdir(directory_path):\n",
    "        file_path = os.path.join(directory_path, filename)\n",
    "        if os.path.isdir(file_path):\n",
    "            shutil.rmtree(file_path)\n",
    "        else:\n",
    "            os.remove(file_path)\n",
    "\n",
    "# sets the path of the directory where the python files are downloades\n",
    "path = pathlib.Path('./python-repositories')\n",
    "#sets the file where we are moving the python files\n",
    "new_dir = pathlib.Path('./python-files')\n",
    "\n",
    "#loops trough all the the files in the directory\n",
    "for p in path.rglob('*.py'):\n",
    "    new_path = new_dir / p.name  # set the new file path\n",
    "    p.rename(new_path) \n",
    "\n",
    "#removes all the folders with the non python files\n",
    "path = pathlib.Path('./python-repositories/')\n",
    "delete_subdirs(path)"
   ]
  },
  {
   "cell_type": "code",
   "execution_count": 43,
   "metadata": {},
   "outputs": [
    {
     "name": "stderr",
     "output_type": "stream",
     "text": [
      "[nltk_data] Downloading package stopwords to\n",
      "[nltk_data]     /Users/jonnasosauranga/nltk_data...\n",
      "[nltk_data]   Unzipping corpora/stopwords.zip.\n"
     ]
    },
    {
     "data": {
      "text/plain": [
       "True"
      ]
     },
     "execution_count": 43,
     "metadata": {},
     "output_type": "execute_result"
    }
   ],
   "source": [
    "import nltk\n",
    "\n",
    "try:\n",
    "    _create_unverified_https_context = ssl._create_unverified_context\n",
    "except AttributeError:\n",
    "    pass\n",
    "else:\n",
    "    ssl._create_default_https_context = _create_unverified_https_context\n",
    "\n",
    "nltk.download('stopwords')"
   ]
  },
  {
   "cell_type": "code",
   "execution_count": 80,
   "metadata": {},
   "outputs": [],
   "source": [
    "import tokenize\n",
    "import io\n",
    "\n",
    "def clean_and_tokenize(code):\n",
    "    # Remove comments and blank lines\n",
    "    code = '\\n'.join(line for line in code.split('\\n') if not line.strip().startswith('#'))\n",
    "\n",
    "    # Convert the code into a file-like object\n",
    "    code_io = io.BytesIO(code.encode('utf-8'))\n",
    "\n",
    "    # Tokenize the code\n",
    "    tokens = tokenize.tokenize(code_io.readline)\n",
    "\n",
    "    # Extract the token types and values\n",
    "    token_types = []\n",
    "    token_values = []\n",
    "    for token in tokens:\n",
    "        if token.type != tokenize.NEWLINE and token.type != tokenize.NL:\n",
    "            token_types.append(tokenize.tok_name[token.type])\n",
    "            token_values.append(token.string)\n",
    "\n",
    "    return token_types, token_values\n"
   ]
  },
  {
   "cell_type": "code",
   "execution_count": 86,
   "metadata": {},
   "outputs": [],
   "source": [
    "import os\n",
    "import tokenize\n",
    "import string\n",
    "\n",
    "# Define the path to the directory containing the Python files\n",
    "dir_path = './python-files'\n",
    "\n",
    "# Create an empty list to store the code from all Python files\n",
    "code_list = []\n",
    "\n",
    "# Loop through each file in the directory and extract the code\n",
    "for filename in os.listdir(dir_path):\n",
    "    if filename.endswith('.py'):\n",
    "        with open(os.path.join(dir_path, filename), 'r') as f:\n",
    "            code_list.append(f.read())\n",
    "\n",
    "# Concatenate the code from all files into a single string\n",
    "code = '\\n'.join(code_list)\n",
    "\n",
    "# Count the number of lines of code\n",
    "num_lines = code.count('\\n')\n",
    "\n",
    "# Tokenize the code by lowercasing everything and splitting on all whitespace and punctuation characters\n",
    "tokens = []\n",
    "for token in tokenize.tokenize(io.BytesIO(code.encode('utf-8')).readline):\n",
    "    if token.type == tokenize.NAME:\n",
    "        # Remove any leading or trailing spaces and punctuation from the token\n",
    "        token_value = token.string.lower().strip(string.whitespace + string.punctuation)\n",
    "        if token_value:\n",
    "            tokens.append(token_value)\n",
    "\n",
    "# Count the number of tokens\n",
    "num_tokens = len(tokens)\n"
   ]
  },
  {
   "cell_type": "code",
   "execution_count": 89,
   "metadata": {},
   "outputs": [],
   "source": [
    "# ngram dictionary to keep the possible ngrams as keys and next occuring words as list items\n",
    "ngrams = {}\n",
    "\n",
    "# words in a single ngram\n",
    "words = 3\n",
    "\n",
    "# Iterate over words tokens\n",
    "for i in range(len(tokens)-words):\n",
    "    # incrementaly find ngram word sequences  \n",
    "    seq = ' '.join(tokens[i:i+words])\n",
    "\n",
    "    # insert in dictionary as key\n",
    "    if  seq not in ngrams.keys():\n",
    "        # prepare empty list to insert next possible chars\n",
    "        ngrams[seq] = []\n",
    "\n",
    "    # push a next word\n",
    "    ngrams[seq].append(tokens[i+words])\n",
    "\n",
    "#print(ngrams)"
   ]
  },
  {
   "cell_type": "code",
   "execution_count": 90,
   "metadata": {},
   "outputs": [],
   "source": [
    "def auto_complete(seed_sequence):\n",
    "    # assuming very first ngram as a search sequence\n",
    "    search_sequence = seed_sequence #' '.join(words_tokens[0:words])\n",
    "\n",
    "    # init the suggestion output\n",
    "    output = search_sequence\n",
    "\n",
    "    next_word = \"\"\n",
    "\n",
    "    # lenth of max words in obtained suggestion\n",
    "    #while next_word != \".\":\n",
    "    for i in range(3):\n",
    "        # break, if search sequence is not present in prepared ngram dictionary\n",
    "        if search_sequence not in ngrams.keys():\n",
    "            search_sequence = random.choice(list(ngrams.keys()))\n",
    "            #print(search_sequence)\n",
    "        \n",
    "        # if ngram key is available, then find the list of next possible characters\n",
    "        possible_words = ngrams[search_sequence]\n",
    "\n",
    "        # Randomly select the next possbile character, most common will have more chances\n",
    "        next_word = possible_words[random.randrange(len(possible_words))]\n",
    "\n",
    "        # Update the suggestion output\n",
    "        output += ' ' + next_word\n",
    "        seq_words = nltk.word_tokenize(output)\n",
    "\n",
    "        # update the search sequence now, excluding first char as we move forward\n",
    "        search_sequence = ' '.join(seq_words[len(seq_words)-words:len(seq_words)])\n",
    "        \n",
    "    return output\n"
   ]
  },
  {
   "cell_type": "code",
   "execution_count": 93,
   "metadata": {},
   "outputs": [
    {
     "name": "stdout",
     "output_type": "stream",
     "text": [
      "Search sequence:  test\n",
      "\n",
      "Suggestion: test other return raise\n"
     ]
    }
   ],
   "source": [
    "seed_sequence = \"test\"\n",
    "print(f'Search sequence: ', seed_sequence)\n",
    "print(f'\\nSuggestion: {auto_complete(seed_sequence)}')"
   ]
  },
  {
   "attachments": {},
   "cell_type": "markdown",
   "metadata": {},
   "source": [
    "TO DO"
   ]
  },
  {
   "cell_type": "code",
   "execution_count": 25,
   "metadata": {},
   "outputs": [
    {
     "ename": "AttributeError",
     "evalue": "module 'github' has no attribute 'Github'",
     "output_type": "error",
     "traceback": [
      "\u001b[0;31m---------------------------------------------------------------------------\u001b[0m",
      "\u001b[0;31mAttributeError\u001b[0m                            Traceback (most recent call last)",
      "Cell \u001b[0;32mIn[25], line 4\u001b[0m\n\u001b[1;32m      1\u001b[0m \u001b[39mimport\u001b[39;00m \u001b[39mgithub\u001b[39;00m \n\u001b[1;32m      3\u001b[0m \u001b[39m# Replace <github_username> and <github_token> with your own username and personal access token\u001b[39;00m\n\u001b[0;32m----> 4\u001b[0m g \u001b[39m=\u001b[39m github\u001b[39m.\u001b[39;49mGithub(\u001b[39m\"\u001b[39m\u001b[39m<github_username>\u001b[39m\u001b[39m\"\u001b[39m, \u001b[39m\"\u001b[39m\u001b[39m<github_token>\u001b[39m\u001b[39m\"\u001b[39m)\n\u001b[1;32m      6\u001b[0m \u001b[39m# Replace <repo_owner> and <repo_name> with the owner and name of the repository you want to download\u001b[39;00m\n\u001b[1;32m      7\u001b[0m repo \u001b[39m=\u001b[39m g\u001b[39m.\u001b[39mget_repo(\u001b[39m\"\u001b[39m\u001b[39m<repo_owner>/<repo_name>\u001b[39m\u001b[39m\"\u001b[39m)\n",
      "\u001b[0;31mAttributeError\u001b[0m: module 'github' has no attribute 'Github'"
     ]
    }
   ],
   "source": [
    "import github \n",
    "\n",
    "# Replace <github_username> and <github_token> with your own username and personal access token\n",
    "g = github.Github(\"<github_username>\", \"<github_token>\")\n",
    "\n",
    "# Replace <repo_owner> and <repo_name> with the owner and name of the repository you want to download\n",
    "repo = g.get_repo(\"<repo_owner>/<repo_name>\")\n",
    "\n",
    "# Replace <download_path> with the path where you want to download the repository\n",
    "download_path = \"<download_path>\"\n",
    "\n",
    "# Download the repository to the specified path\n",
    "repo.get_archive(\"zipball\", download_path)"
   ]
  }
 ],
 "metadata": {
  "kernelspec": {
   "display_name": "Python 3",
   "language": "python",
   "name": "python3"
  },
  "language_info": {
   "codemirror_mode": {
    "name": "ipython",
    "version": 3
   },
   "file_extension": ".py",
   "mimetype": "text/x-python",
   "name": "python",
   "nbconvert_exporter": "python",
   "pygments_lexer": "ipython3",
   "version": "3.10.6"
  },
  "orig_nbformat": 4,
  "vscode": {
   "interpreter": {
    "hash": "aee8b7b246df8f9039afb4144a1f6fd8d2ca17a180786b69acc140d282b71a49"
   }
  }
 },
 "nbformat": 4,
 "nbformat_minor": 2
}
