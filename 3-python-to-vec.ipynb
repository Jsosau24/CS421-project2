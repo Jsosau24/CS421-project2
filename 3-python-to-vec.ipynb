{
 "cells": [
  {
   "cell_type": "code",
   "execution_count": 58,
   "metadata": {},
   "outputs": [],
   "source": [
    "import ssl"
   ]
  },
  {
   "cell_type": "code",
   "execution_count": 59,
   "metadata": {},
   "outputs": [
    {
     "name": "stderr",
     "output_type": "stream",
     "text": [
      "[nltk_data] Downloading package stopwords to\n",
      "[nltk_data]     /Users/jonnasosauranga/nltk_data...\n",
      "[nltk_data]   Package stopwords is already up-to-date!\n"
     ]
    },
    {
     "data": {
      "text/plain": [
       "True"
      ]
     },
     "execution_count": 59,
     "metadata": {},
     "output_type": "execute_result"
    }
   ],
   "source": [
    "import nltk\n",
    "\n",
    "try:\n",
    "    _create_unverified_https_context = ssl._create_unverified_context\n",
    "except AttributeError:\n",
    "    pass\n",
    "else:\n",
    "    ssl._create_default_https_context = _create_unverified_https_context\n",
    "\n",
    "nltk.download('stopwords')"
   ]
  },
  {
   "attachments": {},
   "cell_type": "markdown",
   "metadata": {},
   "source": [
    "# Downloand git repositories automatically"
   ]
  },
  {
   "cell_type": "code",
   "execution_count": 60,
   "metadata": {},
   "outputs": [
    {
     "data": {
      "text/plain": [
       "\"\\n# Access your GitHub account with a personal access token\\ng = Github('personal_access_token')\\n\\n# Get a repository object for the repository you want to download\\nrepo = g.get_repo('username/repository')\\n\\n# Download a ZIP archive of the repository\\nzipball_url = repo.get_archive_link('zipball')\\nresponse = urllib.request.urlopen(zipball_url)\\ndata = response.read()\\n\\n# Extract the files from the ZIP archive\\nwith zipfile.ZipFile(io.BytesIO(data)) as zip_ref:\\n    zip_ref.extractall('./python-repositories')\""
      ]
     },
     "execution_count": 60,
     "metadata": {},
     "output_type": "execute_result"
    }
   ],
   "source": [
    "from github import Github\n",
    "import urllib.request\n",
    "import zipfile\n",
    "import io\n",
    "\n",
    "# Access your GitHub account with a personal access token\n",
    "g = Github('personal_access_token')\n",
    "\n",
    "# Get a repository object for the repository you want to download\n",
    "repo = g.get_repo('matplotlib/matplotlib')\n",
    "\n",
    "# Download a ZIP archive of the repository\n",
    "zipball_url = repo.get_archive_link('zipball')\n",
    "response = urllib.request.urlopen(zipball_url)\n",
    "data = response.read()\n",
    "\n",
    "# Extract the files from the ZIP archive\n",
    "with zipfile.ZipFile(io.BytesIO(data)) as zip_ref:\n",
    "    zip_ref.extractall('./python-repositories')"
   ]
  },
  {
   "attachments": {},
   "cell_type": "markdown",
   "metadata": {},
   "source": [
    "# Clean repositories and move them to a new folder"
   ]
  },
  {
   "cell_type": "code",
   "execution_count": 61,
   "metadata": {},
   "outputs": [],
   "source": [
    "#this piece of code filters the code files and cleans the non usefull files\n",
    "import pathlib\n",
    "import shutil\n",
    "import os\n",
    "\n",
    "def delete_subdirs(directory_path):\n",
    "    for filename in os.listdir(directory_path):\n",
    "        file_path = os.path.join(directory_path, filename)\n",
    "        if os.path.isdir(file_path):\n",
    "            shutil.rmtree(file_path)\n",
    "        else:\n",
    "            os.remove(file_path)\n",
    "\n",
    "# sets the path of the directory where the python files are downloades\n",
    "path = pathlib.Path('./python-repositories')\n",
    "#sets the file where we are moving the python files\n",
    "new_dir = pathlib.Path('./python-files')\n",
    "\n",
    "#loops trough all the the files in the directory\n",
    "for p in path.rglob('*.py'):\n",
    "    new_path = new_dir / p.name  # set the new file path\n",
    "    p.rename(new_path) \n",
    "\n",
    "#removes all the folders with the non python files\n",
    "path = pathlib.Path('./python-repositories/')\n",
    "delete_subdirs(path)"
   ]
  },
  {
   "attachments": {},
   "cell_type": "markdown",
   "metadata": {},
   "source": [
    "# Ngram Model"
   ]
  },
  {
   "cell_type": "code",
   "execution_count": 65,
   "metadata": {},
   "outputs": [],
   "source": [
    "import os\n",
    "import tokenize\n",
    "import string\n",
    "\n",
    "# Define the path to the directory containing the Python files\n",
    "dir_path = './python-files'\n",
    "\n",
    "# Create an empty list to store the code from all Python files\n",
    "code_list = []\n",
    "\n",
    "# Loop through each file in the directory and extract the code\n",
    "for filename in os.listdir(dir_path):\n",
    "    if filename.endswith('.py'):\n",
    "        try:\n",
    "            with open(os.path.join(dir_path, filename), 'r') as f:\n",
    "                text = f.read()  # read the entire file as a single string\n",
    "                code_list.append(text)\n",
    "        except:\n",
    "            pass\n",
    "        \n",
    "# Concatenate the code from all files into a single string\n",
    "code = '\\n'.join(code_list)\n",
    "\n",
    "# Count the number of lines of code\n",
    "num_lines = code.count('\\n')\n",
    "\n",
    "# Tokenize the code by lowercasing everything and splitting on all whitespace and punctuation characters\n",
    "\n",
    "tokens = []\n",
    "for token in tokenize.tokenize(io.BytesIO(code.encode('utf-8')).readline):\n",
    "    if token.type == tokenize.NAME:\n",
    "        # Remove any leading or trailing spaces and punctuation from the token\n",
    "        token_value = token.string.lower().strip(string.whitespace + string.punctuation)\n",
    "        if token_value:\n",
    "            tokens.append(token_value)\n",
    "\n",
    "# Count the number of tokens\n",
    "num_tokens = len(tokens)"
   ]
  },
  {
   "cell_type": "code",
   "execution_count": 66,
   "metadata": {},
   "outputs": [],
   "source": [
    "# ngram dictionary to keep the possible ngrams as keys and next occuring words as list items\n",
    "ngrams = {}\n",
    "\n",
    "# words in a single ngram\n",
    "words = 3\n",
    "\n",
    "# Iterate over words tokens\n",
    "for i in range(len(tokens)-words):\n",
    "    # incrementaly find ngram word sequences  \n",
    "    seq = ' '.join(tokens[i:i+words])\n",
    "\n",
    "    # insert in dictionary as key\n",
    "    if  seq not in ngrams.keys():\n",
    "        # prepare empty list to insert next possible chars\n",
    "        ngrams[seq] = []\n",
    "\n",
    "    # push a next word\n",
    "    ngrams[seq].append(tokens[i+words])\n"
   ]
  },
  {
   "cell_type": "code",
   "execution_count": 67,
   "metadata": {},
   "outputs": [],
   "source": [
    "import random\n",
    "\n",
    "def auto_complete(seed_sequence):\n",
    "    # assuming very first ngram as a search sequence\n",
    "    search_sequence = seed_sequence #' '.join(words_tokens[0:words])\n",
    "\n",
    "    # init the suggestion output\n",
    "    output = search_sequence\n",
    "\n",
    "    next_word = \"\"\n",
    "\n",
    "    # lenth of max words in obtained suggestion\n",
    "    #while next_word != \".\":\n",
    "    for i in range(10):\n",
    "        # break, if search sequence is not present in prepared ngram dictionary\n",
    "        if search_sequence not in ngrams.keys():\n",
    "            search_sequence = random.choice(list(ngrams.keys()))\n",
    "            #print(search_sequence)\n",
    "        \n",
    "        # if ngram key is available, then find the list of next possible characters\n",
    "        possible_words = ngrams[search_sequence]\n",
    "\n",
    "        # Randomly select the next possbile character, most common will have more chances\n",
    "        next_word = possible_words[random.randrange(len(possible_words))]\n",
    "\n",
    "        # Update the suggestion output\n",
    "        output += ' ' + next_word\n",
    "        seq_words = nltk.word_tokenize(output)\n",
    "\n",
    "        # update the search sequence now, excluding first char as we move forward\n",
    "        search_sequence = ' '.join(seq_words[len(seq_words)-words:len(seq_words)])\n",
    "        \n",
    "    return output\n"
   ]
  },
  {
   "cell_type": "code",
   "execution_count": 68,
   "metadata": {},
   "outputs": [
    {
     "name": "stdout",
     "output_type": "stream",
     "text": [
      "Search sequence:  test pandas\n",
      "\n",
      "Suggestion: test pandas self parametrize self test_demo testcase len self path vertices if\n"
     ]
    }
   ],
   "source": [
    "seed_sequence = \"test pandas\"\n",
    "print(f'Search sequence: ', seed_sequence)\n",
    "print(f'\\nSuggestion: {auto_complete(seed_sequence)}')"
   ]
  },
  {
   "attachments": {},
   "cell_type": "markdown",
   "metadata": {},
   "source": [
    "# Gensim Word2Vec model"
   ]
  },
  {
   "cell_type": "code",
   "execution_count": null,
   "metadata": {},
   "outputs": [],
   "source": [
    "import os\n",
    "import tokenize\n",
    "import string\n",
    "\n",
    "# Define the path to the directory containing the Python files\n",
    "dir_path = './python-files'\n",
    "\n",
    "# Create an empty list to store the code from all Python files\n",
    "tokenized_lines_of_code = []\n",
    "\n",
    "for filename in os.listdir(dir_path):\n",
    "    if filename.endswith('.py'):\n",
    "        try:\n",
    "            with open(os.path.join(dir_path, filename), 'r') as f:\n",
    "                lines = f.readlines()\n",
    "                for line in lines:\n",
    "                    tokens = []\n",
    "                    for token in tokenize.tokenize(io.BytesIO(line.encode('utf-8')).readline):\n",
    "                        if token.type == tokenize.NAME:\n",
    "                            # Remove any leading or trailing spaces and punctuation from the token\n",
    "                            token_value = token.string.lower().strip(string.whitespace + string.punctuation)\n",
    "                            if token_value:\n",
    "                                tokens.append(token_value)\n",
    "                    tokenized_lines_of_code.append(tokens)\n",
    "        except:\n",
    "            pass"
   ]
  },
  {
   "cell_type": "code",
   "execution_count": null,
   "metadata": {},
   "outputs": [
    {
     "data": {
      "text/plain": [
       "(595632, 894270)"
      ]
     },
     "execution_count": 48,
     "metadata": {},
     "output_type": "execute_result"
    }
   ],
   "source": [
    "#created the Word2Vec model\n",
    "\n",
    "import gensim\n",
    "\n",
    "model = gensim.models.Word2Vec(\n",
    "    window=10,\n",
    "    min_count=2\n",
    ")\n",
    "\n",
    "model.build_vocab(tokenized_lines_of_code)\n",
    "model.train(tokenized_lines_of_code, total_examples=model.corpus_count, epochs=model.epochs)"
   ]
  },
  {
   "cell_type": "code",
   "execution_count": null,
   "metadata": {},
   "outputs": [
    {
     "data": {
      "text/plain": [
       "[('and', 0.9747416973114014),\n",
       " ('not', 0.964296281337738),\n",
       " ('hasattr', 0.940148651599884),\n",
       " ('startswith', 0.9391381144523621),\n",
       " ('or', 0.93909752368927),\n",
       " ('endswith', 0.9301563501358032),\n",
       " ('l', 0.9260615706443787),\n",
       " ('line', 0.9229528307914734),\n",
       " ('poll', 0.9222391843795776),\n",
       " ('container_name', 0.9213384389877319)]"
      ]
     },
     "execution_count": 50,
     "metadata": {},
     "output_type": "execute_result"
    }
   ],
   "source": [
    "model.wv.most_similar('if')"
   ]
  },
  {
   "cell_type": "code",
   "execution_count": null,
   "metadata": {},
   "outputs": [
    {
     "data": {
      "text/plain": [
       "[('startswith', 0.9870865345001221),\n",
       " ('hasattr', 0.9851466417312622),\n",
       " ('if', 0.9747416973114014),\n",
       " ('endswith', 0.9738984704017639),\n",
       " ('not', 0.9726549386978149),\n",
       " ('requirements', 0.9637553691864014),\n",
       " ('items', 0.9629218578338623),\n",
       " ('line', 0.9614998698234558),\n",
       " ('found', 0.9612892270088196),\n",
       " ('container_name', 0.9610879421234131)]"
      ]
     },
     "execution_count": 51,
     "metadata": {},
     "output_type": "execute_result"
    }
   ],
   "source": [
    "model.wv.most_similar('and')"
   ]
  },
  {
   "cell_type": "code",
   "execution_count": null,
   "metadata": {},
   "outputs": [
    {
     "data": {
      "text/plain": [
       "[('test_decorators', 0.9226421117782593),\n",
       " ('dtypes', 0.9109344482421875),\n",
       " ('util', 0.9021406173706055),\n",
       " ('libs', 0.8971794247627258),\n",
       " ('td', 0.890876054763794),\n",
       " ('internals', 0.8865272402763367),\n",
       " ('gettext', 0.8861660957336426),\n",
       " ('find_spec', 0.878078281879425),\n",
       " ('matplotlib', 0.8744655251502991),\n",
       " ('interchange', 0.8726103901863098)]"
      ]
     },
     "execution_count": 52,
     "metadata": {},
     "output_type": "execute_result"
    }
   ],
   "source": [
    "model.wv.most_similar('pandas')"
   ]
  }
 ],
 "metadata": {
  "kernelspec": {
   "display_name": "Python 3",
   "language": "python",
   "name": "python3"
  },
  "language_info": {
   "codemirror_mode": {
    "name": "ipython",
    "version": 3
   },
   "file_extension": ".py",
   "mimetype": "text/x-python",
   "name": "python",
   "nbconvert_exporter": "python",
   "pygments_lexer": "ipython3",
   "version": "3.10.6"
  },
  "orig_nbformat": 4,
  "vscode": {
   "interpreter": {
    "hash": "aee8b7b246df8f9039afb4144a1f6fd8d2ca17a180786b69acc140d282b71a49"
   }
  }
 },
 "nbformat": 4,
 "nbformat_minor": 2
}
